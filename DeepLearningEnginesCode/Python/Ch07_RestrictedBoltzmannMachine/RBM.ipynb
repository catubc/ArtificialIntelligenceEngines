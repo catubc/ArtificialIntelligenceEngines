{
 "cells": [
  {
   "cell_type": "code",
   "execution_count": 3,
   "id": "c76ccaf4-6711-48c8-a808-55535d29372b",
   "metadata": {},
   "outputs": [
    {
     "data": {
      "application/javascript": [
       "IPython.notebook.set_autosave_interval(120000)"
      ]
     },
     "metadata": {},
     "output_type": "display_data"
    },
    {
     "name": "stdout",
     "output_type": "stream",
     "text": [
      "Autosaving every 120 seconds\n"
     ]
    }
   ],
   "source": [
    "#!/usr/bin/env python3\n",
    "# -*- coding: utf-8 -*-\n",
    "\"\"\"\n",
    "RBM network.\n",
    "@author: Gabriel Bianconi, modified by JimStone\n",
    "# This takes about 10 minutes to run on a 2015 mac. \n",
    "# Description: Applies a single 2-layer RBM to the MNIST dataset of images of digits from 0-9. The trained model uses a SciPy-based logistic regression to classify outputs. It achieves 92.8% classification accuracy on the test set of images.\n",
    "Result: 9237/10000\n",
    "\"\"\"\n",
    "import numpy as np\n",
    "from sklearn.linear_model import LogisticRegression\n",
    "import torch\n",
    "import torchvision.datasets\n",
    "import torchvision.models\n",
    "import torchvision.transforms\n",
    "\n",
    "%autosave 120\n"
   ]
  },
  {
   "cell_type": "code",
   "execution_count": 12,
   "id": "5e87e5db-73a7-402d-b5ef-f5fe2b793eba",
   "metadata": {},
   "outputs": [],
   "source": [
    "###################################################\n",
    "###################################################\n",
    "###################################################\n",
    "\n",
    "BATCH_SIZE = 64 # batch size for training\n",
    "\n",
    "VISIBLE_UNITS = 784  # 784 = 28 x 28 images\n",
    "\n",
    "HIDDEN_UNITS = 128\n",
    "\n",
    "CD_K = 2 # number of contrastive divergence (CD) steps per training vector\n",
    "\n",
    "EPOCHS = 2 # number of times the entire data set is used to train RBM\n",
    "\n",
    "DATA_FOLDER = 'c:/home/cat/data/mnist'\n",
    "\n",
    "# CUDA = Compute Unified Device Architecture, a GPU processor.\n",
    "# Don't worry if you don't have this, the code can work without it.\n",
    "CUDA = torch.cuda.is_available()\n",
    "CUDA_DEVICE = 0\n",
    "\n",
    "if CUDA:\n",
    "    torch.cuda.set_device(CUDA_DEVICE)\n"
   ]
  },
  {
   "cell_type": "code",
   "execution_count": 13,
   "id": "fc1bebf6-630c-474d-a7c6-fb22ef845220",
   "metadata": {},
   "outputs": [],
   "source": [
    "###################################################\n",
    "###################################################\n",
    "###################################################\n",
    "\n",
    "class RBM():\n",
    "\n",
    "    def __init__(self, num_visible, num_hidden, k, learning_rate=1e-3, momentum_coefficient=0.5,weight_decay=1e-4, use_cuda=True):\n",
    "        \n",
    "        self.num_visible    = num_visible\n",
    "        self.num_hidden     = num_hidden\n",
    "        self.k              = k # number of contrastive divergence steps\n",
    "        self.learning_rate  = learning_rate\n",
    "        self.momentum_coefficient = momentum_coefficient\n",
    "        self.weight_decay   = weight_decay\n",
    "        self.use_cuda       = use_cuda\n",
    "\n",
    "        # weights between input and hidden units\n",
    "        self.weights        = torch.randn(num_visible, num_hidden) * 0.1\n",
    "        \n",
    "        # bias terms of visible units\n",
    "        self.visible_bias   = torch.ones(num_visible) * 0.5\n",
    "        \n",
    "        # bias terms of hidden units\n",
    "        self.hidden_bias    = torch.zeros(num_hidden)\n",
    "\n",
    "        # create space for momentum parameters\n",
    "        self.weights_momentum       = torch.zeros(num_visible, num_hidden)\n",
    "        self.visible_bias_momentum  = torch.zeros(num_visible)\n",
    "        self.hidden_bias_momentum   = torch.zeros(num_hidden)\n",
    "\n",
    "        if self.use_cuda:\n",
    "            self.weights        = self.weights.cuda()\n",
    "            self.visible_bias   = self.visible_bias.cuda()\n",
    "            self.hidden_bias    = self.hidden_bias.cuda()\n",
    "\n",
    "            self.weights_momentum       = self.weights_momentum.cuda()\n",
    "            self.visible_bias_momentum  = self.visible_bias_momentum.cuda()\n",
    "            self.hidden_bias_momentum   = self.hidden_bias_momentum.cuda()\n",
    "    \n",
    "    #\n",
    "    def sample_hidden(self, visible_probabilities):\n",
    "        \n",
    "        # get input to each hidden unit\n",
    "        hidden_activations = torch.matmul(visible_probabilities, self.weights) + self.hidden_bias\n",
    "        \n",
    "        # use hidden unit inputs to find prob(on)=hidden_probabilities\n",
    "        hidden_probabilities = self._sigmoid(hidden_activations)\n",
    "        \n",
    "        #\n",
    "        return hidden_probabilities\n",
    "    \n",
    "    #\n",
    "    def sample_visible(self, hidden_probabilities):\n",
    "        \n",
    "        # get input to each visible unit\n",
    "        visible_activations = torch.matmul(hidden_probabilities, self.weights.t()) + self.visible_bias\n",
    "        \n",
    "        # use visible unit inputs to find prob(on)=hidden_probabilities\n",
    "        visible_probabilities = self._sigmoid(visible_activations)\n",
    "        \n",
    "        #\n",
    "        return visible_probabilities\n",
    "    \n",
    "    #\n",
    "    def _sigmoid(self, x):\n",
    "        \n",
    "        #\n",
    "        return 1 / (1 + torch.exp(-x))\n",
    "\n",
    "    #\n",
    "    def _random_probabilities(self, num):\n",
    "        \n",
    "        #\n",
    "        random_probabilities = torch.rand(num)\n",
    "\n",
    "        #\n",
    "        if self.use_cuda:\n",
    "            random_probabilities = random_probabilities.cuda()\n",
    "        \n",
    "        #\n",
    "        return random_probabilities\n",
    "    \n",
    "    # ===========================================================\n",
    "    def contrastive_divergence(self, input_data):\n",
    "        \n",
    "        # input_data is 64 (batch size) by 784 (real valued pixels in input image)\n",
    "        # =Positive phase==================================================\n",
    "        # Positive phase = use 'clamped' visible unit states to sample hidden unit states.\n",
    "        # sample_hidden() treats each real-valued pixel as a probability\n",
    "        positive_hidden_probabilities   = self.sample_hidden(input_data) # 64 x 128 hidden units\n",
    "    \n",
    "        # use positive_hidden_probabilities to get sample of binary hidden unit states\n",
    "        positive_hidden_activations = (positive_hidden_probabilities >= self._random_probabilities(self.num_hidden)).float() # BATCH_SIZE = 64 x 128 hidden units\n",
    "        \n",
    "        positive_associations = torch.matmul(input_data.t(), positive_hidden_activations)\n",
    "        # print((positive_associations.shape)) # torch.Size([784, 128]) HIDDEN_UNITS = 128\n",
    "        # .t() = transpose: https://pytorch.org/docs/0.3.1/torch.html#torch.t\n",
    "        # positive_associations measures correlation between visible and hidden unit states when visible units are  clamped to training data.\n",
    "        \n",
    "        # =Negative phase==================================================\n",
    "        # Negative phase, initialise with final binary positive_hidden_activations\n",
    "        hidden_activations = positive_hidden_activations # 64 x 128\n",
    "        \n",
    "        # loop over number of CD steps\n",
    "        for step in range(self.k): # number of contrastive divergence steps\n",
    "            visible_probabilities   = self.sample_visible(hidden_activations)\n",
    "            hidden_probabilities    = self.sample_hidden(visible_probabilities)\n",
    "            hidden_activations      = (hidden_probabilities >= self._random_probabilities(self.num_hidden)).float()\n",
    "\n",
    "        negative_visible_probabilities  = visible_probabilities\n",
    "        negative_hidden_probabilities   = hidden_probabilities\n",
    "        \n",
    "        # negative_associations measures correlation between visible and hidden unit states when visible units are not clamped to training data.\n",
    "        negative_associations = torch.matmul(negative_visible_probabilities.t(), negative_hidden_probabilities)\n",
    "\n",
    "        # Update weight change\n",
    "        self.weights_momentum *= self.momentum_coefficient\n",
    "        self.weights_momentum += (positive_associations - negative_associations)\n",
    "\n",
    "        # Update visible bias terms\n",
    "        self.visible_bias_momentum *= self.momentum_coefficient\n",
    "        self.visible_bias_momentum += torch.sum(input_data - negative_visible_probabilities, dim=0)\n",
    "\n",
    "        # Update hidden bias terms\n",
    "        self.hidden_bias_momentum *= self.momentum_coefficient\n",
    "        self.hidden_bias_momentum += torch.sum(positive_hidden_probabilities - negative_hidden_probabilities, dim=0)\n",
    "\n",
    "        batch_size = input_data.size(0)\n",
    "\n",
    "        self.weights        += self.weights_momentum * self.learning_rate / batch_size\n",
    "        self.visible_bias   += self.visible_bias_momentum * self.learning_rate / batch_size\n",
    "        self.hidden_bias    += self.hidden_bias_momentum * self.learning_rate / batch_size\n",
    "\n",
    "        self.weights -= self.weights * self.weight_decay  # L2 weight decay\n",
    "\n",
    "        # Compute reconstruction error\n",
    "        error = torch.sum((input_data - negative_visible_probabilities)**2)\n",
    "\n",
    "        return error\n",
    "# ===========================================================\n"
   ]
  },
  {
   "cell_type": "code",
   "execution_count": 14,
   "id": "2db62cdf-e97b-4c61-b7bf-02033f4d2b56",
   "metadata": {},
   "outputs": [
    {
     "name": "stdout",
     "output_type": "stream",
     "text": [
      "Loading MNIST dataset of images of digits between 0 and 9 ...\n",
      "Downloading http://yann.lecun.com/exdb/mnist/train-images-idx3-ubyte.gz\n",
      "Downloading http://yann.lecun.com/exdb/mnist/train-images-idx3-ubyte.gz to c:/home/cat/data/mnist/MNIST/raw/train-images-idx3-ubyte.gz\n"
     ]
    },
    {
     "name": "stderr",
     "output_type": "stream",
     "text": [
      "100.0%\n"
     ]
    },
    {
     "name": "stdout",
     "output_type": "stream",
     "text": [
      "Extracting c:/home/cat/data/mnist/MNIST/raw/train-images-idx3-ubyte.gz to c:/home/cat/data/mnist/MNIST/raw\n",
      "\n",
      "Downloading http://yann.lecun.com/exdb/mnist/train-labels-idx1-ubyte.gz\n"
     ]
    },
    {
     "name": "stderr",
     "output_type": "stream",
     "text": [
      "102.8%"
     ]
    },
    {
     "name": "stdout",
     "output_type": "stream",
     "text": [
      "Downloading http://yann.lecun.com/exdb/mnist/train-labels-idx1-ubyte.gz to c:/home/cat/data/mnist/MNIST/raw/train-labels-idx1-ubyte.gz\n",
      "Extracting c:/home/cat/data/mnist/MNIST/raw/train-labels-idx1-ubyte.gz to c:/home/cat/data/mnist/MNIST/raw\n",
      "\n",
      "Downloading http://yann.lecun.com/exdb/mnist/t10k-images-idx3-ubyte.gz\n"
     ]
    },
    {
     "name": "stderr",
     "output_type": "stream",
     "text": [
      "\n"
     ]
    },
    {
     "name": "stdout",
     "output_type": "stream",
     "text": [
      "Downloading http://yann.lecun.com/exdb/mnist/t10k-images-idx3-ubyte.gz to c:/home/cat/data/mnist/MNIST/raw/t10k-images-idx3-ubyte.gz\n"
     ]
    },
    {
     "name": "stderr",
     "output_type": "stream",
     "text": [
      "100.0%\n"
     ]
    },
    {
     "name": "stdout",
     "output_type": "stream",
     "text": [
      "Extracting c:/home/cat/data/mnist/MNIST/raw/t10k-images-idx3-ubyte.gz to c:/home/cat/data/mnist/MNIST/raw\n",
      "\n",
      "Downloading http://yann.lecun.com/exdb/mnist/t10k-labels-idx1-ubyte.gz\n"
     ]
    },
    {
     "name": "stderr",
     "output_type": "stream",
     "text": [
      "112.7%"
     ]
    },
    {
     "name": "stdout",
     "output_type": "stream",
     "text": [
      "Downloading http://yann.lecun.com/exdb/mnist/t10k-labels-idx1-ubyte.gz to c:/home/cat/data/mnist/MNIST/raw/t10k-labels-idx1-ubyte.gz\n",
      "Extracting c:/home/cat/data/mnist/MNIST/raw/t10k-labels-idx1-ubyte.gz to c:/home/cat/data/mnist/MNIST/raw\n",
      "\n"
     ]
    },
    {
     "name": "stderr",
     "output_type": "stream",
     "text": [
      "\n"
     ]
    }
   ],
   "source": [
    "###################################################\n",
    "###################################################\n",
    "###################################################\n",
    "\n",
    "#\n",
    "print('Loading MNIST dataset of images of digits between 0 and 9 ...')\n",
    "\n",
    "# training data\n",
    "train_dataset = torchvision.datasets.MNIST(root=DATA_FOLDER, \n",
    "                                           train=True, \n",
    "                                           transform=torchvision.transforms.ToTensor(), \n",
    "                                           download=True)\n",
    "train_loader = torch.utils.data.DataLoader(train_dataset, \n",
    "                                           batch_size=BATCH_SIZE)\n",
    "\n",
    "# test data; download just the test dataset\n",
    "test_dataset = torchvision.datasets.MNIST(root=DATA_FOLDER, \n",
    "                                          train=False, \n",
    "                                          transform=torchvision.transforms.ToTensor(), \n",
    "                                          download=True)\n",
    "test_loader = torch.utils.data.DataLoader(test_dataset, \n",
    "                                          batch_size=BATCH_SIZE)\n",
    "\n",
    "\n"
   ]
  },
  {
   "cell_type": "code",
   "execution_count": 7,
   "id": "47333c0e-a289-4312-bc41-53f3653239b1",
   "metadata": {},
   "outputs": [
    {
     "name": "stdout",
     "output_type": "stream",
     "text": [
      "Training RBM for 2 epochs ...\n",
      "Epoch Error (epoch=0): 5785777.5000\n",
      "Epoch Error (epoch=1): 3099693.7500\n"
     ]
    }
   ],
   "source": [
    "###################################################\n",
    "###################################################\n",
    "###################################################\n",
    "\n",
    "print('Training RBM for %d epochs ...' % EPOCHS)\n",
    "# create RBM network with one visible and one hidden laayer\n",
    "rbm = RBM(VISIBLE_UNITS,   # total number of units in the input layer; Q: is this the same for output layer also? \n",
    "                           #   A: likely this RBM version only has input and hidden layers\n",
    "          HIDDEN_UNITS, \n",
    "          CD_K, \n",
    "          use_cuda=CUDA)\n",
    "\n",
    "for epoch in range(EPOCHS):\n",
    "    epoch_error = 0.0\n",
    "\n",
    "    for batch, _ in train_loader:\n",
    "        batch = batch.view(len(batch), VISIBLE_UNITS)  # flatten input data\n",
    "\n",
    "        if CUDA:\n",
    "            batch = batch.cuda()\n",
    "\n",
    "        batch_error = rbm.contrastive_divergence(batch)\n",
    "\n",
    "        epoch_error += batch_error\n",
    "\n",
    "    print('Epoch Error (epoch=%d): %.4f' % (epoch, epoch_error))\n"
   ]
  },
  {
   "cell_type": "code",
   "execution_count": 10,
   "id": "2b04fd2f-22ca-462c-887d-134aa5d6d35b",
   "metadata": {},
   "outputs": [
    {
     "name": "stdout",
     "output_type": "stream",
     "text": [
      "Extracting features...\n",
      "testing train loader...\n",
      "testing testloader...\n",
      "DONE...\n"
     ]
    }
   ],
   "source": [
    "###################################################\n",
    "###################################################\n",
    "###################################################\n",
    "print('Extracting features...')\n",
    "\n",
    "train_features = np.zeros((len(train_dataset), HIDDEN_UNITS))\n",
    "train_labels = np.zeros(len(train_dataset))\n",
    "test_features = np.zeros((len(test_dataset), HIDDEN_UNITS))\n",
    "test_labels = np.zeros(len(test_dataset))\n",
    "\n",
    "# \n",
    "print (\"testing train loader...\")\n",
    "for i, (batch, labels) in enumerate(train_loader):\n",
    "    batch = batch.view(len(batch), VISIBLE_UNITS)  # flatten input data\n",
    "\n",
    "    if CUDA:\n",
    "        batch = batch.cuda()\n",
    "\n",
    "    train_features[i*BATCH_SIZE:i*BATCH_SIZE+len(batch)] = rbm.sample_hidden(batch).cpu().numpy()\n",
    "    train_labels[i*BATCH_SIZE:i*BATCH_SIZE+len(batch)] = labels.numpy()\n",
    "\n",
    "#\n",
    "print (\"testing testloader...\")\n",
    "for i, (batch, labels) in enumerate(test_loader):\n",
    "    batch = batch.view(len(batch), VISIBLE_UNITS)  # flatten input data\n",
    "\n",
    "    if CUDA:\n",
    "        batch = batch.cuda()\n",
    "\n",
    "    test_features[i*BATCH_SIZE:i*BATCH_SIZE+len(batch)] = rbm.sample_hidden(batch).cpu().numpy()\n",
    "    test_labels[i*BATCH_SIZE:i*BATCH_SIZE+len(batch)] = labels.numpy()\n",
    "\n",
    "print (\"DONE...\")"
   ]
  },
  {
   "cell_type": "code",
   "execution_count": 11,
   "id": "1407b7d9-126d-4538-a779-bcc97e96ab9b",
   "metadata": {},
   "outputs": [
    {
     "name": "stdout",
     "output_type": "stream",
     "text": [
      "Fitting linear classifier ...\n",
      "Result: 9271/10000\n"
     ]
    }
   ],
   "source": [
    "###################################################\n",
    "###################################################\n",
    "###################################################\n",
    "\n",
    "# This last step \n",
    "\n",
    "print('Fitting linear classifier ...')\n",
    "\n",
    "clf = LogisticRegression(solver='newton-cg',multi_class='auto')\n",
    "\n",
    "# train_features = 60,000 hidden unit outputs (1 per training vector) x 128 hidden units\n",
    "# use outputs of trained hidden units to fit linear classifier to correct labels ...\n",
    "clf.fit(train_features, train_labels)\n",
    "\n",
    "# use fitted linear classifier to classify test data ... test_features = 10,000 hidden layer states, 1 per test vector\n",
    "predictions = clf.predict(test_features) # predictions = 10,000 classifications (0-9)\n",
    "\n",
    "# compare 10,000 classification results on test data with correct class labels ...\n",
    "print('Result: %d/%d' % (sum(predictions == test_labels), test_labels.shape[0]))\n",
    "# prints out (for example, on test data) Result: 9244/10000 = 92.44%\n"
   ]
  },
  {
   "cell_type": "code",
   "execution_count": null,
   "id": "0be5e576-75e7-4215-9574-fed2a9efbd07",
   "metadata": {},
   "outputs": [],
   "source": []
  }
 ],
 "metadata": {
  "kernelspec": {
   "display_name": "Python 3 (ipykernel)",
   "language": "python",
   "name": "python3"
  },
  "language_info": {
   "codemirror_mode": {
    "name": "ipython",
    "version": 3
   },
   "file_extension": ".py",
   "mimetype": "text/x-python",
   "name": "python",
   "nbconvert_exporter": "python",
   "pygments_lexer": "ipython3",
   "version": "3.7.13"
  }
 },
 "nbformat": 4,
 "nbformat_minor": 5
}
