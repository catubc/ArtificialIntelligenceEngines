{
 "cells": [
  {
   "cell_type": "code",
   "execution_count": 3,
   "metadata": {
    "tags": []
   },
   "outputs": [
    {
     "data": {
      "application/javascript": [
       "IPython.notebook.set_autosave_interval(120000)"
      ]
     },
     "metadata": {},
     "output_type": "display_data"
    },
    {
     "name": "stdout",
     "output_type": "stream",
     "text": [
      "Autosaving every 120 seconds\n"
     ]
    }
   ],
   "source": [
    "'''\n",
    "The code for running the Hopfield network is taken from Stefan Maetschke. Thanks Stefan!\n",
    "http://codeaffectionate.blogspot.co.uk/2013/05/fun-with-hopfield-and-numpy.html\n",
    "\n",
    "This will be the most complex code we have run so far, but it uses the basic principles we have already covered. \n",
    "The difference is that we now have a network of hundreds of model neurons, not just one or two\n",
    "\n",
    "'''\n",
    "\n",
    "# original code from: https://github.com/tomstafford/emerge/blob/master/lecture4.ipynb\n",
    "\n",
    "# updated June 20, 2022\n",
    "\n",
    "#Import libraries we will use. \n",
    "# - remember, libraries are sets of functions we want to use in our code\n",
    "# - functions are reusable sets of commands that do important tasks. \n",
    "\n",
    "import numpy as np #maths functions in python\n",
    "import socket #to get host machine identity\n",
    "import os # for joining paths and filenames sensibly\n",
    "import glob #for finding files\n",
    "#import pylab as plt #graphing functions\n",
    "import matplotlib.pyplot as plt\n",
    "\n",
    "#draw graphs in this notebook rather than in separate windows\n",
    "%matplotlib tk\n",
    "\n",
    "%autosave 120\n"
   ]
  },
  {
   "cell_type": "code",
   "execution_count": 4,
   "metadata": {
    "collapsed": false,
    "jupyter": {
     "outputs_hidden": false
    }
   },
   "outputs": [],
   "source": [
    "######################################################################\n",
    "########################### HELPER FUNCTIONS #########################\n",
    "######################################################################\n",
    "\n",
    "#previously we have also defined our own functions\n",
    "#We're going to do that a lot here. \n",
    "#You don't need to follow each line of code, but do read the first line(s) which say what the code does\n",
    "\n",
    "def from_jpg(name):\n",
    "    #This function takes image files and converts them into a patter of numbers\n",
    "    #We can then use this pattern of numbers to teach the Hopfield Network\n",
    "    #need to make this so it forces square shape\n",
    "    from PIL import Image\n",
    "    size=40,40\n",
    "    im = Image.open(name).convert('L')\n",
    "    jm = im.resize(size,Image.ANTIALIAS)\n",
    "    vals=np.array(jm.getdata())\n",
    "    sgn = np.vectorize(lambda x: -1 if x<(255/2) else +1)\n",
    "    return sgn(vals)\n",
    "\n",
    "def to_pattern(letter):\n",
    "    #This converts string to -1/+1 array\n",
    "    from numpy import array\n",
    "    return array([+1 if c=='X' else -1 for c in letter.replace('\\n','')])\n",
    "    \n",
    "def display(pattern):\n",
    "    #This shows a pattern of numbers as an image\n",
    "    # - i.e it is the reverse of the 'from_jpg' function\n",
    "    from pylab import imshow, cm, show\n",
    "    side=int(np.sqrt(len(pattern)))    \n",
    "    imshow(pattern.reshape((side,side)),cmap=cm.binary, interpolation='nearest')\n",
    "    show()\n",
    "\n",
    "# \n",
    "def train(patterns):\n",
    "    #This trains a network to remember the patterns it is given\n",
    "    # - since it is important I'll comment each line\n",
    "    \n",
    "    from numpy import zeros, outer, diag_indices  #import functions for vector calculus\n",
    "    \n",
    "    #\n",
    "    r,c = patterns.shape #take the patters and make them vectors. There is a neuron for each pixel in the patterns\n",
    "    \n",
    "    #\n",
    "    W = zeros((c,c)) #there is a weight between each neuron in the network\n",
    "    \n",
    "    #\n",
    "    for p in patterns: # for each pattern\n",
    "        W = W + outer(p,p) # change the weights to reflect the correlation between pixels\n",
    "        print (\"outer product (p,p): \", outer(p,p).shape)\n",
    "    \n",
    "    #\n",
    "    W[diag_indices(c)] = 0 # neurons are not connected to themselves (ie the weight is 0)\n",
    "    \n",
    "    # normalize (i.e. divide) by the number of trainining images   \n",
    "    W  = W/r\n",
    "    \n",
    "    return W\n",
    "\n",
    "#\n",
    "def recall(W, patterns, steps=5):\n",
    "    #The tests the network. You give it a pattern and see what it produces\n",
    "    from numpy import vectorize, dot #vector calculus functions\n",
    "    sgn = vectorize(lambda x: -1 if x<0 else +1) # convert input pattern into a -1/+1 pattern\n",
    "    for _ in xrange(steps): #over a number of iterations (defined by 'steps')    \n",
    "        patterns = sgn(dot(patterns,W)) #adjust the neuron activity to reflect the weights\n",
    "    return patterns #return the final pattern\n",
    "    \n",
    "\n",
    "# \n",
    "def degrade(patterns,noise):\n",
    "    #This allows you to add noise to a pattern\n",
    "    sgn=np.vectorize(lambda x: x*-1 if np.random.random()<noise else x)\n",
    "    out=sgn(patterns)\n",
    "    return out\n",
    "\n",
    "# \n",
    "def degrade_weights(W,noise):\n",
    "    #this function resets a proportion of the weights in the network\n",
    "    sgn=vectorize(lambda x: 0 if random()<noise else x)\n",
    "    return sgn(W)\n",
    "    \n",
    "\n",
    "# \n",
    "def makepartial(p,proportion):\n",
    "    u=int(proportion*len(p))\n",
    "    new_p=p\n",
    "    new_p[:u]=-1\n",
    "    return new_p\n",
    "    "
   ]
  },
  {
   "cell_type": "code",
   "execution_count": 6,
   "metadata": {
    "collapsed": false,
    "jupyter": {
     "outputs_hidden": false
    }
   },
   "outputs": [
    {
     "name": "stdout",
     "output_type": "stream",
     "text": [
      "Unique image values:  [-1  1] [-1  1] [-1  1]\n",
      "NOTE: values of picutres are -1s and +1s - NOT 0s and 1s\n"
     ]
    },
    {
     "name": "stderr",
     "output_type": "stream",
     "text": [
      "/media/cat/4TBSSD/anaconda3/envs/ai/lib/python3.7/site-packages/ipykernel_launcher.py:16: DeprecationWarning: ANTIALIAS is deprecated and will be removed in Pillow 10 (2023-07-01). Use Resampling.LANCZOS instead.\n",
      "  \n"
     ]
    }
   ],
   "source": [
    "######################################################################\n",
    "########################### HELPER FUNCTIONS #########################\n",
    "######################################################################\n",
    "\n",
    "#get files from 'patterns' directory. You can put your own pictures in there if you want\n",
    "files = glob.glob(os.path.join('patterns','*.jpg')) #where are the patterns stored?\n",
    "\n",
    "#from these files, define patterns of numbers\n",
    "patterns=np.array([from_jpg(p) for p in files]) #put individual patterns in array\n",
    "\n",
    "#remember how large the patterns are\n",
    "side=int(np.sqrt(len(patterns[0]))) #assume all patterns the same shape\n",
    "\n",
    "\n",
    "plt.figure()\n",
    "plt.imshow(patterns[1].reshape(40,40),\n",
    "          cmap='Greys')\n",
    "print (\"Unique image values: \", \n",
    "       np.unique(patterns[0]),\n",
    "       np.unique(patterns[1]),\n",
    "       np.unique(patterns[2]))\n",
    "print (\"NOTE: values of picutres are -1s and +1s - NOT 0s and 1s\")\n",
    "plt.colorbar()\n",
    "plt.show()"
   ]
  },
  {
   "cell_type": "markdown",
   "metadata": {},
   "source": [
    "Let's have a look at our patterns"
   ]
  },
  {
   "cell_type": "code",
   "execution_count": 7,
   "metadata": {
    "collapsed": false,
    "jupyter": {
     "outputs_hidden": false
    }
   },
   "outputs": [],
   "source": [
    "######################################################################\n",
    "##################### VISUALIZE INPUT IMAGES #########################\n",
    "######################################################################\n",
    "# Four axes, returned as a 2-d array\n",
    "f, axarr = plt.subplots(1,len(patterns))\n",
    "\n",
    "for p in range(len(patterns)):\n",
    "    #axarr[0, p].imshow(patterns[p].reshape((side,side)),cmap=cm.binary, interpolation='nearest')\n",
    "    axarr[p].imshow(patterns[p].reshape((side,side)), cmap=\"binary\")\n",
    "    #axarr[0, p].set_title('Cue' + str(p))\n",
    "    \n",
    "# Fine-tune figure; hide x ticks for top plots and y ticks for right plots\n",
    "plt.setp([a.get_xticklabels() for a in axarr[:]], visible=False)\n",
    "plt.setp([a.get_yticklabels() for a in axarr[:]], visible=False)\n",
    "plt.suptitle('Our training patterns')\n",
    "plt.savefig('trainingpatterns.png') #save a file\n"
   ]
  },
  {
   "cell_type": "markdown",
   "metadata": {},
   "source": [
    "The Hopfield Network learns patterns of association. In this case, the association is between pixels in the images."
   ]
  },
  {
   "cell_type": "code",
   "execution_count": 8,
   "metadata": {
    "collapsed": false,
    "jupyter": {
     "outputs_hidden": false
    }
   },
   "outputs": [
    {
     "name": "stdout",
     "output_type": "stream",
     "text": [
      "train weights\n"
     ]
    }
   ],
   "source": [
    "#####################################################\n",
    "############## TRAINING FUNCTION ####################\n",
    "#####################################################\n",
    "\n",
    "def train2(patterns):\n",
    "    #This trains a network to remember the patterns it is given\n",
    "    # - since it is important I'll comment each line\n",
    "    \n",
    "    from numpy import zeros, outer, diag_indices  #import functions for vector calculus\n",
    "    \n",
    "    #\n",
    "    r,c = patterns.shape #take the patters and make them vectors. There is a neuron for each pixel in the patterns\n",
    "    \n",
    "    #\n",
    "    W = zeros((c,c)) #there is a weight between each neuron in the network\n",
    "    \n",
    "    #\n",
    "    plt.figure()\n",
    "    ctr=0\n",
    "    for p in patterns: # for each pattern\n",
    "        W = W + outer(p,p) # change the weights to reflect the correlation between pixels\n",
    "                            # this is the most important step here:\n",
    "                            # - it creates a connectivity/weight matrix between all pixels\n",
    "                            #   where 1s mean that both pixels are the same, i.e. correlated\n",
    "                            #   -1s means the pixels are opposite\n",
    "                            # - This info is in sections 5.2 and 5.3 of the Hoppfield network section\n",
    "                            # - TLDR: we want all pixel values to be pushed towards their default values (i.e. -1s to be pushed towards -1)\n",
    "                            #   so the way to achieve this is to set weights between 2 pixels accordingly (-1 between different pixels; +1 for same)\n",
    "                            \n",
    "                            # 2nd step: Summing over all outer products\n",
    "                            # - this has the effect of adjusting the weigths based on the cumulative sum over all training images\n",
    "                            #   so it pushes node weights towards the average or mean (or cumulative to be more precise) imagge correlation\n",
    "                            \n",
    "                            # in the decoding/or recall step - we actually convert the negative values to -1s and the positive to +1s \n",
    "                            # - this rebinarizes the data back to its original range\n",
    "        \n",
    "        \n",
    "        ax=plt.subplot(2,3,ctr+1)\n",
    "        plt.imshow(outer(p,p))\n",
    "        plt.title(\"outer product matrix\",fontsize=8)\n",
    "        plt.xticks([])\n",
    "        \n",
    "        ax=plt.subplot(2,3,ctr+4)\n",
    "        plt.imshow(p.reshape(40,40))\n",
    "        plt.title(\"original vector\",fontsize=8)\n",
    "        ctr+=1\n",
    "    \n",
    "    #\n",
    "    W[diag_indices(c)] = 0 # neurons are not connected to themselves (ie the weight is 0)\n",
    "    \n",
    "    #\n",
    "    return W/r #send back the normalised weights; i.e. for 3 training images, we divide by 3\n",
    "\n",
    "#\n",
    "print (\"train weights\")\n",
    "\n",
    "# this computes the self correlation between the entire images and single pixels?\n",
    "# W is the weight matrix learned!!!\n",
    "W = train2(patterns) \n",
    "\n",
    "\n",
    "plt.figure()\n",
    "plt.imshow(W, interpolation='none')\n",
    "plt.title(\"Hopfiled network weight matrix == Sum (all outer products of training vectors)\")\n",
    "plt.colorbar()\n",
    "plt.show()"
   ]
  },
  {
   "cell_type": "markdown",
   "metadata": {},
   "source": [
    "We have defined a network which has 'learnt' associations between pixels. Now the fun begins. We can explore the emergent properties of this network to see just what networks of simple neurons can do. We can ask if the way the Hopfield network behaves has any lessons to teach us about human memory."
   ]
  },
  {
   "cell_type": "markdown",
   "metadata": {},
   "source": [
    "#simple recall\n",
    "\n",
    "In the graph below the first row shows the pattern the network is shown (the starting activity). The second row shows the pattern of activity after the neurons are allowed to send signals back and forth"
   ]
  },
  {
   "cell_type": "code",
   "execution_count": 38,
   "metadata": {
    "collapsed": false,
    "jupyter": {
     "outputs_hidden": false
    }
   },
   "outputs": [
    {
     "name": "stdout",
     "output_type": "stream",
     "text": [
      "pre boolianization # of unique states (12,) [-784.33333333 -784.33333333 -553.66666667 -511.         -511.\n",
      " -280.33333333 -280.33333333  280.33333333  280.33333333  511.\n",
      "  553.66666667  784.33333333]\n",
      "post boolianization  # of unique states:  (2,) [-1.  1.]\n",
      "\n",
      "pre boolianization # of unique states (12,) [-771.66666667 -541.         -541.         -523.66666667 -523.66666667\n",
      " -293.         -293.          293.          523.66666667  541.\n",
      "  541.          771.66666667]\n",
      "post boolianization  # of unique states:  (2,) [-1.  1.]\n",
      "\n",
      "pre boolianization # of unique states (14,) [-793.         -545.         -545.         -519.66666667 -519.66666667\n",
      " -271.66666667 -271.66666667  271.66666667  271.66666667  519.66666667\n",
      "  519.66666667  545.          545.          793.        ]\n",
      "post boolianization  # of unique states:  (2,) [-1.  1.]\n",
      "\n",
      "NOTE: the values of the unique pre boolienazation step are very pooolarized -i.e. very far from 0\n",
      "      - this means that our networks have sufficient depth (?!) to reconstruct multiple types of images given non-corrupted input\n"
     ]
    },
    {
     "data": {
      "image/png": "[encoded data removed]",
      "text/plain": [
       "<Figure size 432x288 with 6 Axes>"
      ]
     },
     "metadata": {
      "needs_background": "light"
     },
     "output_type": "display_data"
    }
   ],
   "source": [
    "####################################################################\n",
    "####################################################################\n",
    "####################################################################\n",
    "\n",
    "def vector_to_boolean_vector(data):\n",
    "    ''' Convert data into -1s and +1s     \n",
    "    '''\n",
    "    if True:\n",
    "        idx1 = np.where(data<0)[0]\n",
    "        idx2 = np.where(data>=0)[0]\n",
    "        data[idx1]=-1\n",
    "        data[idx2]=+1\n",
    "\n",
    "    #\n",
    "    return data\n",
    "\n",
    "def recall2(W, pattern, steps=5):\n",
    "    \n",
    "    #The tests the network. You give it a pattern and see what it produces\n",
    "    from numpy import vectorize, dot #vector calculus functions\n",
    "    \n",
    "    # original code\n",
    "    # sgn = vectorize(lambda x: -1 if x<0 else +1) # convert input pattern into a -1/+1 pattern\n",
    "    \n",
    "\n",
    "    \n",
    "    # original code\n",
    "    #for _ in range(steps): #over a number of iterations (defined by 'steps')    \n",
    "    #    patterns = sgn(dot(patterns,W)) #adjust the neuron activity to reflect the weights\n",
    "    \n",
    "    #patterns2 = np.zeros(pattern.shape)\n",
    "    #for k in range(len(patterns)):\n",
    "    for q in range(steps):\n",
    "        #print (pattern.shape, W.shape)\n",
    "        temp = dot(pattern,W)           # The first step \n",
    "                                        # - Determine the state of each pixel in the reconstructed image by summing over all connected states * weights\n",
    "                                        #   - this has the overall effect of pushing the pixel space far into \n",
    "        \n",
    "        if q==0:\n",
    "            print (\"pre boolianization # of unique states\", np.unique(temp).shape, np.unique(temp))\n",
    "        temp = vector_to_boolean_vector(temp)\n",
    "        \n",
    "        if q==0:\n",
    "            print (\"post boolianization  # of unique states: \", np.unique(temp).shape, np.unique(temp))\n",
    "        pattern = temp\n",
    "        \n",
    "    print (\"\")\n",
    "    \n",
    "    #\n",
    "    return pattern #return the final pattern\n",
    "    \n",
    "\n",
    "\n",
    "# Four axes, returned as a 2-d array\n",
    "f, axarr = plt.subplots(2, len(patterns))\n",
    "\n",
    "for p in range(len(patterns)):\n",
    "\n",
    "    # note NN can't tell between reflected image\n",
    "    print (\"HN can't tell between reflected images; will return one or other)\n",
    "    pattern_in = -patterns[p]\n",
    "    pattern_in = -patterns[p]\n",
    "    \n",
    "    axarr[0, p].imshow(pattern_in.reshape((side,side)), cmap=\"binary\")\n",
    "    axarr[0, p].set_title('Cue' + str(p))\n",
    "    axarr[0,p].set_xticks([])\n",
    "    \n",
    "    #\n",
    "    axarr[1, p].imshow(recall2(W,\n",
    "                               pattern_in).reshape((side,side)),\n",
    "                               # patterns[p]).reshape((side,side)),\n",
    "                       #vmin=0,\n",
    "                       #vmax=0.1,\n",
    "                       cmap=\"binary\")\n",
    "    \n",
    "    #\n",
    "    axarr[1, p].set_title('Recall' + str(p))\n",
    "\n",
    "    \n",
    "    #\n",
    "print (\"NOTE: the values of the unique pre boolienazation step are very pooolarized -i.e. very far from 0\")\n",
    "print (\"      - this means that our networks have sufficient depth (?!) to reconstruct multiple types of images given non-corrupted input\")\n",
    "    \n",
    "    \n",
    "# Fine-tune figure; hide x ticks for top plots and y ticks for right plots\n",
    "#plt.setp([a.get_xticklabels() for a in axarr[0, :]], visible=False)\n",
    "#plt.setp([a.get_xticklabels() for a in axarr[1, :]], visible=False)\n",
    "#plt.setp([a.get_yticklabels() for a in axarr[:, 0]], visible=False)\n",
    "#plt.setp([a.get_yticklabels() for a in axarr[:, 1]], visible=False)\n",
    "#plt.suptitle('Test with training patterns')\n",
    "#plt.savefig('fullcue.png')\n"
   ]
  },
  {
   "cell_type": "markdown",
   "metadata": {},
   "source": [
    "They should match. Graphically this isn't very interesting, but it means that the network doesn't move away from the pattern it is shown if it has been trained it before. Is this something like what our memories do when we recognise something?"
   ]
  },
  {
   "cell_type": "markdown",
   "metadata": {},
   "source": [
    "#Recognition with noisy inputs\n",
    "\n",
    "You can recognise a face you've seen before in a new circumstances. You can recognise someone on a dark night, in the rain, even if they've changed their haircut. What does this mean to our network? Well, we can't give our patterns makeup, but we can alter them at random and see what how our network responds'"
   ]
  },
  {
   "cell_type": "code",
   "execution_count": 45,
   "metadata": {
    "collapsed": false,
    "jupyter": {
     "outputs_hidden": false
    }
   },
   "outputs": [
    {
     "name": "stdout",
     "output_type": "stream",
     "text": [
      "pre boolianization # of unique states (26,) [-512.33333333 -510.33333333 -510.33333333 -510.33333333 -363.\n",
      " -361.         -361.         -361.         -325.66666667 -323.66666667\n",
      " -323.66666667 -323.66666667 -176.33333333 -174.33333333  174.33333333\n",
      "  176.33333333  176.33333333  323.66666667  323.66666667  323.66666667\n",
      "  325.66666667  361.          361.          363.          510.33333333\n",
      "  512.33333333]\n",
      "post boolianization  # of unique states:  (2,) [-1.  1.]\n",
      "\n",
      "pre boolianization # of unique states (26,) [-473.66666667 -473.66666667 -471.66666667 -321.66666667 -319.66666667\n",
      " -319.66666667 -317.66666667 -317.66666667 -315.66666667 -315.66666667\n",
      " -165.66666667 -165.66666667 -163.66666667 -163.66666667  163.66666667\n",
      "  163.66666667  165.66666667  165.66666667  315.66666667  315.66666667\n",
      "  317.66666667  319.66666667  319.66666667  321.66666667  471.66666667\n",
      "  473.66666667]\n",
      "post boolianization  # of unique states:  (2,) [-1.  1.]\n",
      "\n",
      "pre boolianization # of unique states (24,) [-497.         -495.         -341.         -339.         -339.\n",
      " -318.33333333 -316.33333333 -162.33333333 -162.33333333 -160.33333333\n",
      " -160.33333333  160.33333333  160.33333333  162.33333333  316.33333333\n",
      "  318.33333333  318.33333333  339.          339.          341.\n",
      "  341.          495.          497.          497.        ]\n",
      "post boolianization  # of unique states:  (2,) [-1.  1.]\n",
      "\n"
     ]
    },
    {
     "data": {
      "image/png": "[encoded data removed]",
      "text/plain": [
       "<Figure size 432x288 with 9 Axes>"
      ]
     },
     "metadata": {
      "needs_background": "light"
     },
     "output_type": "display_data"
    }
   ],
   "source": [
    "####################################################################################\n",
    "####################################################################################\n",
    "####################################################################################\n",
    "\n",
    "#\n",
    "def boolean_flip_random(data, \n",
    "                       noise_level):\n",
    "    ''' Convert data into -1s and +1s     \n",
    "    '''\n",
    "\n",
    "    # select random numbers between 0 and 1 (uniformly dstirbuted)\n",
    "    rnd = np.random.random(data.shape[0])\n",
    "    \n",
    "    # for all values < noise level flip them\n",
    "    idx = np.where(rnd<noise_level)[0]\n",
    "        \n",
    "    #\n",
    "    data[idx] = data[idx]*-1\n",
    "        \n",
    "    #\n",
    "    return data\n",
    "\n",
    "#\n",
    "def add_random_noise_flips(pattern,\n",
    "                           noise_level):\n",
    "    \n",
    "    #This allows you to add noise to a pattern\n",
    "    \n",
    "    #sgn=np.vectorize(lambda x: x*-1 if np.random.random()<noise else x)\n",
    "    \n",
    "    pattern = boolean_flip_random(pattern.copy(),\n",
    "                                         noise_level)\n",
    "    \n",
    "    return pattern\n",
    "\n",
    "#\n",
    "\n",
    "#reload original patterns. \n",
    "patterns=np.array([from_jpg(p) for p in files]) #put individual patterns in array\n",
    "\n",
    "#\n",
    "noise_level=0.8\n",
    "\n",
    "#\n",
    "testpatterns= [] \n",
    "for k in range(len(patterns)):\n",
    "    testpatterns.append(add_random_noise_flips(patterns[k],\n",
    "                                              noise_level))\n",
    "\n",
    "\n",
    "# Four axes, returned as a 2-d array\n",
    "f, axarr = plt.subplots(3, len(patterns))\n",
    "\n",
    "for p in range(len(testpatterns)):\n",
    "    \n",
    "    #\n",
    "    axarr[0, p].imshow(patterns[p].reshape((side,side)), cmap=\"binary\")\n",
    "    axarr[0, p].set_title('Original' + str(p))\n",
    "\n",
    "    #\n",
    "    axarr[1, p].imshow(testpatterns[p].reshape((side,side)), cmap=\"binary\")\n",
    "    axarr[1, p].set_title('Cue' + str(p))\n",
    "    \n",
    "    # \n",
    "    axarr[2, p].imshow(recall2(W,testpatterns[p]).reshape((side,side)), cmap=\"binary\")\n",
    "    axarr[2, p].set_title('Recall' + str(p))\n",
    "    \n",
    "    \n",
    "# # Fine-tune figure; hide x ticks for top plots and y ticks for right plots\n",
    "# plt.setp([a.get_xticklabels() for a in axarr[0, :]], visible=False)\n",
    "# plt.setp([a.get_xticklabels() for a in axarr[1, :]], visible=False)\n",
    "# plt.setp([a.get_yticklabels() for a in axarr[:, 0]], visible=False)\n",
    "# plt.setp([a.get_yticklabels() for a in axarr[:, 1]], visible=False)\n",
    "# plt.suptitle('Test with noisy cue')\n",
    "# plt.savefig('noisycue.png')\n"
   ]
  },
  {
   "cell_type": "markdown",
   "metadata": {},
   "source": [
    "In the cell above the amount of noise is defined as 0.1. That's 10% of pixels randomly switched. What happens if you change that number? How is the system responding?"
   ]
  },
  {
   "cell_type": "markdown",
   "metadata": {},
   "source": [
    "What you are seeing is sometimes called 'graceful degredation'. That means that the system fails gradually - it doesn't need the exact right inputs to guess the right pattern. Consider:\n",
    "\n",
    "Yuo nca unredstnad thsi\n",
    "\n",
    "Human information processing is often very good at coping with noisy inputs. Computers, not so much.\n"
   ]
  },
  {
   "cell_type": "markdown",
   "metadata": {},
   "source": [
    "#Recognition from partial cues"
   ]
  },
  {
   "cell_type": "code",
   "execution_count": 53,
   "metadata": {
    "collapsed": false,
    "jupyter": {
     "outputs_hidden": false
    }
   },
   "outputs": [
    {
     "name": "stdout",
     "output_type": "stream",
     "text": [
      "pre boolianization # of unique states (20,) [-340.33333333 -277.66666667 -275.         -275.         -212.33333333\n",
      " -212.33333333  212.33333333  212.33333333  214.33333333  214.33333333\n",
      "  275.          275.          277.          277.          277.66666667\n",
      "  277.66666667  279.66666667  340.33333333  340.33333333  342.33333333]\n",
      "post boolianization  # of unique states:  (2,) [-1.  1.]\n",
      "\n",
      "pre boolianization # of unique states (21,) [-275.66666667 -214.33333333 -214.33333333 -197.         -197.\n",
      " -135.66666667  135.66666667  137.66666667  137.66666667  197.\n",
      "  197.          197.          199.          199.          214.33333333\n",
      "  214.33333333  214.33333333  216.33333333  216.33333333  275.66666667\n",
      "  277.66666667]\n",
      "post boolianization  # of unique states:  (2,) [-1.  1.]\n",
      "\n",
      "pre boolianization # of unique states (23,) [-736.33333333 -736.33333333 -453.66666667 -453.66666667 -316.33333333\n",
      " -316.33333333  -33.66666667  -33.66666667  -33.66666667   33.66666667\n",
      "   33.66666667   33.66666667   33.66666667   35.66666667   35.66666667\n",
      "  316.33333333  316.33333333  318.33333333  318.33333333  453.66666667\n",
      "  455.66666667  736.33333333  738.33333333]\n",
      "post boolianization  # of unique states:  (2,) [-1.  1.]\n",
      "\n"
     ]
    },
    {
     "data": {
      "image/png": "[encoded data removed]",
      "text/plain": [
       "<Figure size 720x720 with 9 Axes>"
      ]
     },
     "metadata": {
      "needs_background": "light"
     },
     "output_type": "display_data"
    }
   ],
   "source": [
    "####################################################################################\n",
    "####################################################################################\n",
    "####################################################################################\n",
    "\n",
    "#\n",
    "def occlude_image_continuous(p,\n",
    "                  proportion):\n",
    "    \n",
    "    # \n",
    "    u=int(proportion*len(p))\n",
    "    new_p=p.copy()\n",
    "    new_p[:u]=-1\n",
    "    return new_p\n",
    "\n",
    "#\n",
    "def occlude_image_random(p,\n",
    "                      proportion):\n",
    "    \n",
    "    # \n",
    "    u=int(proportion*len(p))\n",
    "    idx = np.random.choice(np.arange(p.shape[0]), u, replace=False)\n",
    "    new_p = p.copy()\n",
    "    new_p[idx] = -1\n",
    "    return new_p\n",
    "\n",
    "#reload original patterns otherwise being overwritten as they are pointer-sahred\n",
    "patterns=np.array([from_jpg(p) for p in files]) #put individual patterns in array\n",
    "   \n",
    "#\n",
    "proportion=0.4\n",
    "testpatterns=[]\n",
    "for k in range(len(patterns)):\n",
    "    testpatterns.append(occlude_image_continuous(patterns[k], proportion))\n",
    "    #testpatterns.append(occlude_image_random(patterns[k], proportion))\n",
    "\n",
    " # Four axes, returned as a 2-d array\n",
    "f, axarr = plt.subplots(3, len(testpatterns),\n",
    "                       figsize=(10,10))\n",
    "\n",
    "for p in range(len(testpatterns)):\n",
    "    \n",
    "    #\n",
    "    axarr[0, p].imshow(patterns[p].reshape((side,side)), cmap=\"hot\")\n",
    "    axarr[0, p].set_title('original' + str(p))\n",
    "    \n",
    "    #\n",
    "    axarr[1, p].imshow(testpatterns[p].reshape((side,side)), cmap=\"hot\")\n",
    "    axarr[1, p].set_title('Cue' + str(p))\n",
    "    \n",
    "    #\n",
    "    axarr[2, p].imshow(recall2(W,testpatterns[p]).reshape((side,side)), cmap=\"hot\")\n",
    "    axarr[2, p].set_title('Recall' + str(p))\n",
    "\n",
    "# # Fine-tune figure; hide x ticks for top plots and y ticks for right plots\n",
    "# plt.setp([a.get_xticklabels() for a in axarr[0, :]], visible=False)\n",
    "# plt.setp([a.get_xticklabels() for a in axarr[1, :]], visible=False)\n",
    "# plt.setp([a.get_yticklabels() for a in axarr[:, 0]], visible=False)\n",
    "# plt.setp([a.get_yticklabels() for a in axarr[:, 1]], visible=False)\n",
    "# plt.suptitle('Test with partial cue')\n",
    "# plt.savefig('partialcue.png')"
   ]
  },
  {
   "cell_type": "code",
   "execution_count": 10,
   "metadata": {
    "collapsed": false,
    "jupyter": {
     "outputs_hidden": false
    }
   },
   "outputs": [
    {
     "data": {
      "image/png": "[encoded data removed]",
      "text/plain": [
       "<matplotlib.figure.Figure at 0x7f6ed1f75810>"
      ]
     },
     "metadata": {},
     "output_type": "display_data"
    }
   ],
   "source": []
  },
  {
   "cell_type": "markdown",
   "metadata": {},
   "source": [
    "So the network can recover the patterns it was trained on from a partial cue. Compare to how you can remember someone's name from their face, or the answer to the question \"what is the capital of France?\"\n",
    "\n",
    "What happens as you change the amount of the original pattern that is removed?"
   ]
  }
 ],
 "metadata": {
  "kernelspec": {
   "display_name": "Python 3 (ipykernel)",
   "language": "python",
   "name": "python3"
  },
  "language_info": {
   "codemirror_mode": {
    "name": "ipython",
    "version": 3
   },
   "file_extension": ".py",
   "mimetype": "text/x-python",
   "name": "python",
   "nbconvert_exporter": "python",
   "pygments_lexer": "ipython3",
   "version": "3.7.12"
  }
 },
 "nbformat": 4,
 "nbformat_minor": 4
}
